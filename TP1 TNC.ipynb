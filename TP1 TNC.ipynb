{
 "cells": [
  {
   "cell_type": "code",
   "execution_count": 197,
   "metadata": {},
   "outputs": [],
   "source": [
    "def RSA(nbits = 512):\n",
    "    p = random_prime(2^(nbits//2), lbound=2^(nbits//2-1))\n",
    "    q = random_prime(2^(nbits//2+1), lbound=2^(nbits//2))\n",
    "    n = p*q\n",
    "    m = (p-1)*(q-1)\n",
    "    e = 3\n",
    "    while gcd(e, m) != 1:\n",
    "        p = random_prime(2^(nbits//2), lbound=2^(nbits//2-1))\n",
    "        q = random_prime(2^(nbits//2+1), lbound=2^(nbits//2))\n",
    "        n = p*q\n",
    "        m = (p-1)*(q-1)\n",
    "    d = power_mod(e, -1, m) # é a chave privada, inverso de e mod m\n",
    "    return (n, e), d\n",
    "\n",
    "def RSA_encriptar(mens, ch_pub):\n",
    "    n, e = ch_pub\n",
    "    cripto = []\n",
    "    for ch in mens:\n",
    "        cripto.append( power_mod(ord(ch), e, n) )\n",
    "    #cripto = power_mod(mens, e, n)\n",
    "    return cripto\n",
    "\n",
    "def RSA_desencriptar(cripto, ch_pub, ch_priv):\n",
    "    n, _ = ch_pub\n",
    "    decif = []\n",
    "    for ch in cripto:\n",
    "        decif.append( chr(power_mod(ch, ch_priv, n)) )\n",
    "    #decif = power_mod(cripto, ch_priv, n)\n",
    "    return \"\".join(decif)"
   ]
  },
  {
   "cell_type": "code",
   "execution_count": 238,
   "metadata": {},
   "outputs": [],
   "source": [
    "plaintext = '''Lorem ipsum dolor sit amet, consectetur adipiscing elit, sed do eiusmod tempor incididunt ut labore et dolore magna aliqua. Ut enim ad minim veniam, quis nostrud exercitation ullamco laboris nisi ut aliquip ex ea commodo consequat. Duis aute irure dolor in reprehenderit in voluptate velit esse cillum dolore eu fugiat nulla pariatur. Excepteur sint occaecat cupidatat non proident, sunt in culpa qui officia deserunt mollit anim id est laborum.\n",
    "Sed ut perspiciatis unde omnis iste natus error sit voluptatem accusantium doloremque laudantium, totam rem aperiam, eaque ipsa quae ab illo inventore veritatis et quasi architecto beatae vitae dicta sunt explicabo. Nemo enim ipsam voluptatem quia voluptas sit aspernatur aut odit aut fugit, sed quia consequuntur magni dolores eos qui ratione voluptatem sequi nesciunt. Neque porro quisquam est, qui dolorem ipsum quia dolor sit amet, consectetur, adipisci velit, sed quia non numquam eius modi tempora incidunt ut labore et dolore magnam aliquam quaerat voluptatem. Ut enim ad minima veniam, quis nostrum exercitationem ullam corporis suscipit laboriosam, nisi ut aliquid ex ea commodi consequatur? Quis autem vel eum iure reprehenderit qui in ea voluptate velit esse quam nihil molestiae consequatur, vel illum qui dolorem eum fugiat quo voluptas nulla pariatur?'''"
   ]
  },
  {
   "cell_type": "code",
   "execution_count": 199,
   "metadata": {},
   "outputs": [],
   "source": [
    "chaves_publicas = []\n",
    "chaves_privadas = []\n",
    "cifras = []\n",
    "\n",
    "for i in range(3):\n",
    "    publica, privada = RSA()\n",
    "    \n",
    "    chaves_publicas.append(publica)\n",
    "    chaves_privadas.append(privada)\n",
    "    cifras.append(RSA_encriptar(plaintext, publica))"
   ]
  },
  {
   "cell_type": "code",
   "execution_count": 200,
   "metadata": {},
   "outputs": [],
   "source": [
    "#for i in range(3):\n",
    "#    publica = chaves_publicas[i]\n",
    "#    privada = chaves_privadas[i]\n",
    "#    cifra = cifras[i]\n",
    "#    \n",
    "#    print(RSA_desencriptar(cifra, publica, privada))"
   ]
  },
  {
   "cell_type": "code",
   "execution_count": 201,
   "metadata": {},
   "outputs": [],
   "source": [
    "def hastad(cifras, chaves_publicas):\n",
    "    res = []\n",
    "    for i in range(len(cifras[0])):\n",
    "        x = crt([x[i] for x in cifras], [x[0] for x in chaves_publicas]) # Teorema Chinês dos Restos\n",
    "        res.append(x.nth_root(3)) # Raiz de grau 3 de x\n",
    "    return \"\".join(map(chr, res))"
   ]
  },
  {
   "cell_type": "code",
   "execution_count": 202,
   "metadata": {},
   "outputs": [],
   "source": [
    "#x = crt(cifras, [x[0] for x in chaves_publicas])\n",
    "#x.nth_root(3)"
   ]
  },
  {
   "cell_type": "code",
   "execution_count": 203,
   "metadata": {
    "scrolled": true
   },
   "outputs": [
    {
     "data": {
      "text/plain": [
       "'wicked'"
      ]
     },
     "execution_count": 203,
     "metadata": {},
     "output_type": "execute_result"
    }
   ],
   "source": [
    "hastad(cifras, chaves_publicas)"
   ]
  },
  {
   "cell_type": "markdown",
   "metadata": {},
   "source": [
    "# Alternativa"
   ]
  },
  {
   "cell_type": "code",
   "execution_count": 239,
   "metadata": {},
   "outputs": [],
   "source": [
    "def RSA_encriptar(mens, ch_pub):\n",
    "    n, e = ch_pub\n",
    "    plain = \"\"\n",
    "    for ch in mens:\n",
    "        x = ord(ch)\n",
    "        plain += format(x, '03')\n",
    "    cripto = power_mod(int(plain), e, n)\n",
    "    return cripto"
   ]
  },
  {
   "cell_type": "code",
   "execution_count": 240,
   "metadata": {},
   "outputs": [],
   "source": [
    "chaves_publicas = []\n",
    "chaves_privadas = []\n",
    "cifras = []\n",
    "\n",
    "for i in range(3):\n",
    "    publica, privada = RSA()\n",
    "    \n",
    "    chaves_publicas.append(publica)\n",
    "    chaves_privadas.append(privada)\n",
    "    cifras.append(RSA_encriptar(plaintext, publica))"
   ]
  },
  {
   "cell_type": "code",
   "execution_count": 241,
   "metadata": {},
   "outputs": [],
   "source": [
    "def convertToString(decif):\n",
    "    decifString = str(decif)\n",
    "    \n",
    "    plain = []\n",
    "    i = len(decifString)\n",
    "    \n",
    "    while i > 0:\n",
    "        if i >= 3:\n",
    "            plain.append(chr(int(decifString[i-3:i])))\n",
    "        else:\n",
    "            plain.append(chr(int(decifString[0:i])))\n",
    "        i -= 3\n",
    "    return \"\".join(plain[::-1])"
   ]
  },
  {
   "cell_type": "code",
   "execution_count": 242,
   "metadata": {},
   "outputs": [],
   "source": [
    "def RSA_desencriptar(cripto, ch_priv, ch_pub):\n",
    "    n, e = ch_pub\n",
    "    decif = power_mod(cripto, ch_priv, n)\n",
    "    \n",
    "    return convertToString(decif)"
   ]
  },
  {
   "cell_type": "code",
   "execution_count": 243,
   "metadata": {},
   "outputs": [],
   "source": [
    "def hastad(cifras, ch_pub):\n",
    "    x = crt(cifras, [x[0] for x in ch_pub])\n",
    "    return convertToString(x.nth_root(3))"
   ]
  },
  {
   "cell_type": "code",
   "execution_count": 244,
   "metadata": {},
   "outputs": [
    {
     "ename": "ValueError",
     "evalue": "1473328457344444040790840274666929659115123364487508764565233021182977171387804865130744718095273064156572819828656558140677812918521538560639566393062301645572009092936440722278307118002952941820209153930638279614745030791749994269741907312032863002905107263489551337921196713292019688251752696140590437113502186412940512962624154170838608978408702170613768549000652346024337941258305092202978759383542647756578199208671537676512250205403466967572610877643402376 is not a 3rd power",
     "output_type": "error",
     "traceback": [
      "\u001b[0;31m---------------------------------------------------------------------------\u001b[0m",
      "\u001b[0;31mValueError\u001b[0m                                Traceback (most recent call last)",
      "\u001b[0;32m<ipython-input-244-4171bdf9d155>\u001b[0m in \u001b[0;36m<module>\u001b[0;34m()\u001b[0m\n\u001b[0;32m----> 1\u001b[0;31m \u001b[0mhastad\u001b[0m\u001b[0;34m(\u001b[0m\u001b[0mcifras\u001b[0m\u001b[0;34m,\u001b[0m \u001b[0mchaves_publicas\u001b[0m\u001b[0;34m)\u001b[0m\u001b[0;34m\u001b[0m\u001b[0m\n\u001b[0m",
      "\u001b[0;32m<ipython-input-243-11dad14db88d>\u001b[0m in \u001b[0;36mhastad\u001b[0;34m(cifras, ch_pub)\u001b[0m\n\u001b[1;32m      1\u001b[0m \u001b[0;32mdef\u001b[0m \u001b[0mhastad\u001b[0m\u001b[0;34m(\u001b[0m\u001b[0mcifras\u001b[0m\u001b[0;34m,\u001b[0m \u001b[0mch_pub\u001b[0m\u001b[0;34m)\u001b[0m\u001b[0;34m:\u001b[0m\u001b[0;34m\u001b[0m\u001b[0m\n\u001b[1;32m      2\u001b[0m     \u001b[0mx\u001b[0m \u001b[0;34m=\u001b[0m \u001b[0mcrt\u001b[0m\u001b[0;34m(\u001b[0m\u001b[0mcifras\u001b[0m\u001b[0;34m,\u001b[0m \u001b[0;34m[\u001b[0m\u001b[0mx\u001b[0m\u001b[0;34m[\u001b[0m\u001b[0mInteger\u001b[0m\u001b[0;34m(\u001b[0m\u001b[0;36m0\u001b[0m\u001b[0;34m)\u001b[0m\u001b[0;34m]\u001b[0m \u001b[0;32mfor\u001b[0m \u001b[0mx\u001b[0m \u001b[0;32min\u001b[0m \u001b[0mch_pub\u001b[0m\u001b[0;34m]\u001b[0m\u001b[0;34m)\u001b[0m\u001b[0;34m\u001b[0m\u001b[0m\n\u001b[0;32m----> 3\u001b[0;31m     \u001b[0;32mreturn\u001b[0m \u001b[0mconvertToString\u001b[0m\u001b[0;34m(\u001b[0m\u001b[0mx\u001b[0m\u001b[0;34m.\u001b[0m\u001b[0mnth_root\u001b[0m\u001b[0;34m(\u001b[0m\u001b[0mInteger\u001b[0m\u001b[0;34m(\u001b[0m\u001b[0;36m3\u001b[0m\u001b[0;34m)\u001b[0m\u001b[0;34m)\u001b[0m\u001b[0;34m)\u001b[0m\u001b[0;34m\u001b[0m\u001b[0m\n\u001b[0m",
      "\u001b[0;32msage/rings/integer.pyx\u001b[0m in \u001b[0;36msage.rings.integer.Integer.nth_root (build/cythonized/sage/rings/integer.c:14679)\u001b[0;34m()\u001b[0m\n",
      "\u001b[0;31mValueError\u001b[0m: 1473328457344444040790840274666929659115123364487508764565233021182977171387804865130744718095273064156572819828656558140677812918521538560639566393062301645572009092936440722278307118002952941820209153930638279614745030791749994269741907312032863002905107263489551337921196713292019688251752696140590437113502186412940512962624154170838608978408702170613768549000652346024337941258305092202978759383542647756578199208671537676512250205403466967572610877643402376 is not a 3rd power"
     ]
    }
   ],
   "source": [
    "hastad(cifras, chaves_publicas)"
   ]
  },
  {
   "cell_type": "code",
   "execution_count": null,
   "metadata": {},
   "outputs": [],
   "source": []
  }
 ],
 "metadata": {
  "kernelspec": {
   "display_name": "SageMath 8.1",
   "language": "",
   "name": "sagemath"
  },
  "language_info": {
   "codemirror_mode": {
    "name": "ipython",
    "version": 2
   },
   "file_extension": ".py",
   "mimetype": "text/x-python",
   "name": "python",
   "nbconvert_exporter": "python",
   "pygments_lexer": "ipython2",
   "version": "2.7.17"
  }
 },
 "nbformat": 4,
 "nbformat_minor": 2
}
