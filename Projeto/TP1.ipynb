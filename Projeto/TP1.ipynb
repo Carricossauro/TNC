{
 "cells": [
  {
   "cell_type": "markdown",
   "metadata": {},
   "source": [
    "# Teoria de Números Computacional 21/22\n",
    "---\n",
    "## Trabalho Prático 1\n",
    "\n",
    "Grupo:\n",
    "\n",
    "* Ivo Miguel Gomes Lima (A90214)\n",
    "\n",
    "* Tiago dos Santos Silva Peixoto Carriço (A91695)\n",
    "\n",
    "---\n",
    "## Contextualização\n",
    "\n",
    "Neste trabalho foi-nos pedida a implementação e explicação de um dos ataques feitos ao $RSA$, o famoso ataque de $Hastad$.\n",
    "\n",
    "Para o efeito recorremos ao [SageMath](https://www.sagemath.org) e a alguns documentos bibliográficos o [D. Boneh, Twenty years of attacks on the RSA cryptosystem](http://crypto.stanford.edu/~dabo/pubs/papers/RSA-survey.pdf) e [Glenn Durfee, Cryptanalysis of RSA Using Algebraic and Lattice Methods (pag 24)](http://theory.stanford.edu/~gdurf/durfee-thesis-phd.pdf) para conseguirmos exemplificar e adquirir a precessão de como o ataque funciona. \n",
    "\n",
    "No final do documento apresentamos alguns exemplos a chaves $RSA$ com expoente 3.\n",
    "\n",
    "### Criação do RSA \n",
    "\n",
    "O algoritmo de criptografia Rivest-Shamir-Adleman ($RSA$) é um algoritmo de criptografia assimétrico amplamente utilizado para transmissão segura de dados. A criptografia assimétrica usa um par de chaves matematicamente ligadas para criptografar e descriptografar dados. \n",
    "\n",
    "O $RSA$ envolve um par de chaves, uma chave pública gerada através de dois números primos grandes $p$ e $q$, tendo estes valores a ordem de $10^{100}$, esta chave pode ser conhecida por todos, já a chave privada deve ser mantida em sigilo. Toda mensagem cifrada usando uma chave pública só pode ser decifrada usando a respectiva chave privada. Após a geração destes valores é calculado um $n$ que é a somente a multiplicação dos valores $p$ e $q$, isto é $ n\\ =\\ p\\ \\times\\ q$. Em seguida devemos calcular a [Função totiente de Euler](https://pt.wikipedia.org/wiki/Função_totiente_de_Euler) que geralmente é apresentada como $\\phi{(n)}$ mas nos nosso caso acabamos por chamar $m$, que terá o valor de $(p-1)\\ \\times\\ (q-1)$. Depois utilizamos o valor de expoente ($e$) que nos foi dado no enunciado de 3 que respeita a regra de ser $1 < e < m$. Por fim, temos de calcular o inverso multiplicativo de $e$ em $\\mod m$ que será guardado numa variável $d$.\n",
    "\n",
    "#### Implementação"
   ]
  },
  {
   "cell_type": "code",
   "execution_count": 197,
   "metadata": {},
   "outputs": [],
   "source": [
    "def RSA(nbits = 512):\n",
    "    p = random_prime(2^(nbits//2), lbound=2^(nbits//2-1))\n",
    "    q = random_prime(2^(nbits//2+1), lbound=2^(nbits//2))\n",
    "    n = p*q\n",
    "    m = (p-1)*(q-1)\n",
    "    e = 3\n",
    "    while gcd(e, m) != 1:\n",
    "        p = random_prime(2^(nbits//2), lbound=2^(nbits//2-1))\n",
    "        q = random_prime(2^(nbits//2+1), lbound=2^(nbits//2))\n",
    "        n = p*q\n",
    "        m = (p-1)*(q-1)\n",
    "    d = power_mod(e, -1, m) # é a chave privada, inverso de e mod m\n",
    "    return (n, e), d"
   ]
  },
  {
   "cell_type": "markdown",
   "metadata": {},
   "source": [
    "### Encriptação e Decriptação\n",
    "\n",
    "Para transformar uma mensagem $mens$, numa mensagem $cripto$, recorremos à iteração de cada um dos caracteres nela contida por forma a encriptá-la através da potenciação modular. Neste processo utilizamos a chave pública do destinatário, o $n$ e o $e$, por fim acrescentamento o resultado à lista, a fórmula será algo assim $mens[i]^{e} = crypto[i]\\mod{n}$.\n",
    "\n",
    "Para recuperar a mensagem original, fazemos o mesmo para quando encriptamos utilizamos  a potenciação modular mas desta vez utilizamos a chave privada do recetor. A fórmula fica muito semelhante à anteriormente, isto é $crypto[i]^{d}\\equiv mens[i]\\mod {n}$.\n",
    "\n",
    "#### Implementação"
   ]
  },
  {
   "cell_type": "code",
   "execution_count": null,
   "metadata": {},
   "outputs": [],
   "source": [
    "def RSA_encriptar(mens, ch_pub):\n",
    "    n, e = ch_pub\n",
    "    cripto = []\n",
    "    for ch in mens:\n",
    "        cripto.append( power_mod(ord(ch), e, n) )\n",
    "    #cripto = power_mod(mens, e, n)\n",
    "    return cripto\n",
    "\n",
    "def RSA_desencriptar(cripto, ch_pub, ch_priv):\n",
    "    n, _ = ch_pub\n",
    "    decif = []\n",
    "    for ch in cripto:\n",
    "        decif.append( chr(power_mod(ch, ch_priv, n)) )\n",
    "    #decif = power_mod(cripto, ch_priv, n)\n",
    "    return \"\".join(decif)"
   ]
  },
  {
   "cell_type": "markdown",
   "metadata": {},
   "source": [
    "## Ataque de $Hastad$\n",
    "\n",
    "Este ataque ocorre quando o expoente é pequeno, temos uma mensagem longa e o remetente envia a mesma mensagem para vários destinatários usando o mesmo $e$.\n",
    "\n",
    "Para que o ataque ocorra precisaremos de capturar pelo menos $e$ mensagens encriptadas da mensagem $m$.\n",
    "\n",
    "Utilizando o nosso caso de estudo onde $e$ = 3, podemos concluir que $M$ = $m^3$, isto é ficaremos com um sistema de equações semelhante ao apresentado abaixo:\n",
    "\n",
    "$$\\begin{cases}M \\equiv c_1 [n_1]\\\\M \\equiv c_2 [n_2]\\\\M \\equiv c_3 [n_3]\\end{cases}$$\n",
    "\n",
    "De seguida, teremos de resolver o sistema por forma a encontrar uma solução, neste ponto usaremos o [Teorema chinês do resto](https://pt.wikipedia.org/wiki/Teorema_chinês_do_resto) pois a codição $\\mod{N} = \\prod_{i=1}^e\\ n_i\\ =\\ n_1 \\times n_2 \\times n_3,\\ para\\ MDC(n_i, n_j) = 1\\ e\\ i \\neq j$ é satisfeita, caso contrário, seria possível calcular um fator de um dos $n_i$ através do $MDC(n_i, n_j)$.\n",
    "\n",
    "Para encontrar a solução definimos o $N_i = \\frac{N}{n_i}$.\n",
    "\n",
    "Sabendo que o $MDC(N_i, n_i)=1$, podemos assumir que $(u_i \\times N_i) + (v_i \\times n_i) = 1$ onde $u_i$ é o inverso de $N_i \\mod n_i$. Em suma, $u_i \\times N_i \\equiv 1 [n_i]$.\n",
    "\n",
    "Percebemos ainda que $u_i \\times N_i \\equiv 0 [n_j], para j \\neq i$ porque $N_i$ é múltiplo de $n_j$ por definição.\n",
    "\n",
    "Agora podemos construir uma solução para o sistema de equações, findando em $M \\equiv \\sum_{i=1}^e c_i \\times u_i \\times N_i [N]$.\n",
    "\n",
    "Por fim como $m < n_i$ então $m^3 < N$, o que significa que temos de calcular a raiz cúbica da solução para obter a mensagem original."
   ]
  },
  {
   "cell_type": "code",
   "execution_count": 201,
   "metadata": {},
   "outputs": [],
   "source": [
    "def hastad(cifras, chaves_publicas):\n",
    "    res = []\n",
    "    for i in range(len(cifras[0])):\n",
    "        x = crt([x[i] for x in cifras], [x[0] for x in chaves_publicas]) # Teorema Chinês dos Restos\n",
    "        res.append(x.nth_root(3)) # Raiz de grau 3 de x\n",
    "    return \"\".join(map(chr, res))"
   ]
  },
  {
   "cell_type": "markdown",
   "metadata": {},
   "source": [
    "### Alternativa\n",
    "\n",
    "Ao invés de se fazer a encriptação e desencriptação da mensagem carater a carater, tentamos aplicar a transformação a toda a mensagem de uma vez mas encontramos uma limitação quando, que será apresentada nos exemplos."
   ]
  },
  {
   "cell_type": "code",
   "execution_count": 239,
   "metadata": {},
   "outputs": [],
   "source": [
    "def RSA_encriptar2(mens, ch_pub):\n",
    "    n, e = ch_pub\n",
    "    plain = \"\"\n",
    "    for ch in mens:\n",
    "        x = ord(ch)\n",
    "        plain += format(x, '03')\n",
    "    cripto = power_mod(int(plain), e, n)\n",
    "    return cripto"
   ]
  },
  {
   "cell_type": "code",
   "execution_count": 241,
   "metadata": {},
   "outputs": [],
   "source": [
    "def convertToString(decif):\n",
    "    decifString = str(decif)\n",
    "    \n",
    "    plain = []\n",
    "    i = len(decifString)\n",
    "    \n",
    "    while i > 0:\n",
    "        if i >= 3:\n",
    "            plain.append(chr(int(decifString[i-3:i])))\n",
    "        else:\n",
    "            plain.append(chr(int(decifString[0:i])))\n",
    "        i -= 3\n",
    "    return \"\".join(plain[::-1])"
   ]
  },
  {
   "cell_type": "code",
   "execution_count": 242,
   "metadata": {},
   "outputs": [],
   "source": [
    "def RSA_desencriptar2(cripto, ch_priv, ch_pub):\n",
    "    n, e = ch_pub\n",
    "    decif = power_mod(cripto, ch_priv, n)\n",
    "    return convertToString(decif)"
   ]
  },
  {
   "cell_type": "code",
   "execution_count": 243,
   "metadata": {},
   "outputs": [],
   "source": [
    "def hastad2(cifras, ch_pub):\n",
    "    x = crt(cifras, [x[0] for x in ch_pub])\n",
    "    return convertToString(x.nth_root(3))"
   ]
  },
  {
   "cell_type": "markdown",
   "metadata": {},
   "source": [
    "## Exemplos\n",
    "\n",
    "### Exemplo 1\n",
    "\n",
    "Suponhamos que a Alice, Bob e o Charlie partilham um sistema de RSA com $e$ = 3. O Zachary ..."
   ]
  },
  {
   "cell_type": "code",
   "execution_count": null,
   "metadata": {},
   "outputs": [],
   "source": [
    "plaintext = '''Lorem ipsum dolor sit amet, consectetur adipiscing elit, sed do eiusmod tempor incididunt ut labore et dolore magna aliqua. Ut enim ad minim veniam, quis nostrud exercitation ullamco laboris nisi ut aliquip ex ea commodo consequat. Duis aute irure dolor in reprehenderit in voluptate velit esse cillum dolore eu fugiat nulla pariatur. Excepteur sint occaecat cupidatat non proident, sunt in culpa qui officia deserunt mollit anim id est laborum.\n",
    "Sed ut perspiciatis unde omnis iste natus error sit voluptatem accusantium doloremque laudantium, totam rem aperiam, eaque ipsa quae ab illo inventore veritatis et quasi architecto beatae vitae dicta sunt explicabo. Nemo enim ipsam voluptatem quia voluptas sit aspernatur aut odit aut fugit, sed quia consequuntur magni dolores eos qui ratione voluptatem sequi nesciunt. Neque porro quisquam est, qui dolorem ipsum quia dolor sit amet, consectetur, adipisci velit, sed quia non numquam eius modi tempora incidunt ut labore et dolore magnam aliquam quaerat voluptatem. Ut enim ad minima veniam, quis nostrum exercitationem ullam corporis suscipit laboriosam, nisi ut aliquid ex ea commodi consequatur? Quis autem vel eum iure reprehenderit qui in ea voluptate velit esse quam nihil molestiae consequatur, vel illum qui dolorem eum fugiat quo voluptas nulla pariatur?'''\n",
    "chaves_publicas = []\n",
    "chaves_privadas = []\n",
    "cifras = []"
   ]
  },
  {
   "cell_type": "code",
   "execution_count": null,
   "metadata": {},
   "outputs": [],
   "source": [
    "for i in range(3):\n",
    "    publica, privada = RSA()\n",
    "    chaves_publicas.append(publica)\n",
    "    chaves_privadas.append(privada)\n",
    "    cifras.append(RSA_encriptar(plaintext, publica))\n",
    "    cifras.append(RSA_encriptar2(plaintext, publica))\n",
    "\n",
    "#for i in range(3):\n",
    "#    publica = chaves_publicas[i]\n",
    "#    privada = chaves_privadas[i]\n",
    "#    cifra = cifras[i]\n",
    "#    \n",
    "#    print(RSA_desencriptar(cifra, publica, privada))\n",
    "mensO1 = hastad(cifras,chaves_publica)\n",
    "mensO2 = hastad2(cifras,chaves_publica)\n",
    "print(\"A mensagem original enviada pela Alice foi \",mensO1 ,\"utilizando o 1º método.\" , sep = \" \")\n",
    "print(\"A mensagem original enviada pela Alice foi \",mensO2 ,\"utilizando o 2º metodo.\" , sep = \" \")"
   ]
  },
  {
   "cell_type": "markdown",
   "metadata": {},
   "source": [
    "### Exemplo 2\n",
    "\n",
    "O Luis Filipe Vieira,... Esta mensagem foi interceptada pelo hacker Rui Pinto através do uso do ataque clássico de $Hastad$"
   ]
  },
  {
   "cell_type": "code",
   "execution_count": null,
   "metadata": {},
   "outputs": [],
   "source": [
    "plaintext = 'Bilhetes e arbitragem'\n",
    "chaves_publicas = []\n",
    "chaves_privadas = []\n",
    "cifras = []"
   ]
  },
  {
   "cell_type": "code",
   "execution_count": null,
   "metadata": {},
   "outputs": [],
   "source": [
    "for i in range(3):\n",
    "    publica, privada = RSA()\n",
    "    chaves_publicas.append(publica)\n",
    "    chaves_privadas.append(privada)\n",
    "    cifras.append(RSA_encriptar(plaintext, publica))\n",
    "    cifras.append(RSA_encriptar2(plaintext, publica))\n",
    "\n",
    "#for i in range(3):\n",
    "#    publica = chaves_publicas[i]\n",
    "#    privada = chaves_privadas[i]\n",
    "#    cifra = cifras[i]\n",
    "#    \n",
    "#    print(RSA_desencriptar(cifra, publica, privada))\n",
    "mensO1 = hastad(cifras,chaves_publica)\n",
    "mensO2 = hastad2(cifras,chaves_publica)\n",
    "print(\"A mensagem original enviada pela Alice foi \",mensO1 ,\"utilizando o 1º método.\" , sep = \" \")\n",
    "print(\"A mensagem original enviada pela Alice foi \",mensO2 ,\"utilizando o 2º metodo.\" , sep = \" \")"
   ]
  },
  {
   "cell_type": "markdown",
   "metadata": {},
   "source": [
    "### Exemplo 3\n",
    "\n",
    "Foi interceptado pelo Bruno Jardim.."
   ]
  },
  {
   "cell_type": "code",
   "execution_count": null,
   "metadata": {},
   "outputs": [],
   "source": [
    "plaintext = 'Bilhetes e arbitragem'\n",
    "chaves_publicas = []\n",
    "chaves_privadas = []\n",
    "cifras = []"
   ]
  },
  {
   "cell_type": "code",
   "execution_count": null,
   "metadata": {},
   "outputs": [],
   "source": [
    "for i in range(3):\n",
    "    publica, privada = RSA()\n",
    "    chaves_publicas.append(publica)\n",
    "    chaves_privadas.append(privada)\n",
    "    cifras.append(RSA_encriptar(plaintext, publica))\n",
    "    cifras.append(RSA_encriptar2(plaintext, publica))\n",
    "\n",
    "#for i in range(3):\n",
    "#    publica = chaves_publicas[i]\n",
    "#    privada = chaves_privadas[i]\n",
    "#    cifra = cifras[i]\n",
    "#    \n",
    "#    print(RSA_desencriptar(cifra, publica, privada))\n",
    "mensO1 = hastad(cifras,chaves_publica)\n",
    "mensO2 = hastad2(cifras,chaves_publica)\n",
    "print(\"A mensagem original enviada pela Alice foi \",mensO1 ,\"utilizando o 1º método.\" , sep = \" \")\n",
    "print(\"A mensagem original enviada pela Alice foi \",mensO2 ,\"utilizando o 2º metodo.\" , sep = \" \")"
   ]
  }
 ],
 "metadata": {
  "kernelspec": {
   "display_name": "SageMath 8.1",
   "language": "",
   "name": "sagemath"
  },
  "language_info": {
   "codemirror_mode": {
    "name": "ipython",
    "version": 2
   },
   "file_extension": ".py",
   "mimetype": "text/x-python",
   "name": "python",
   "nbconvert_exporter": "python",
   "pygments_lexer": "ipython2",
   "version": "2.7.17"
  }
 },
 "nbformat": 4,
 "nbformat_minor": 2
}
