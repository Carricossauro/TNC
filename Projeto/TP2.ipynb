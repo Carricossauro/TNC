{
 "cells": [
  {
   "cell_type": "markdown",
   "metadata": {},
   "source": [
    "# Teoria de Números Computacional 21/22\n",
    "---\n",
    "## Trabalho Prático 2\n",
    "\n",
    "Grupo:\n",
    "\n",
    "* Ivo Miguel Gomes Lima (A90214)\n",
    "\n",
    "* Tiago dos Santos Silva Peixoto Carriço (A91695)\n",
    "\n",
    "---\n",
    "## Contextualização\n",
    "\n",
    "Para o segundo trabalho prático foi-nos pedido a implementação e explicação do [Algoritmo de $Shanks$](https://en.wikipedia.org/wiki/Baby-step_giant-step), baby-step giant-step, que permite resolver o Problema do Logaritmo Discreto, tendo em vista o caso de uma raiz primitiva r de $Z_p^*$.\n",
    "\n",
    "Tal como no primeiro trabalho prátrico foi necessário o uso do [SageMath](https://www.sagemath.org) e a consulta da secção 3.6.2 (Cap 3) do ${Handbook\\ of\\ Applied\\ Cryptography,\\ A.\\ Menezes,\\ P.\\ van\\ Oorschot,\\ S.\\ Vanstone,\\ CRC\\ Press,\\ 1996}$ disponibilizado pelo docente da cadeira.\n",
    "\n",
    "### Problema do Logaritmo Discreto\n",
    "\n",
    "Existem muitos sistemas de criptografia cuja segurança é baseada na dificuldade em resolver logaritmos discretos.\n",
    "Algebricamente, o logaritmo é um expoente. Mais precisamente, se $1 \\neq b > 0 $ é um número real, então para valores positivos de $a \\in \\R$, o logaritmo de $a$ na base $b$ deve ser elevado para produzir $a$.\n",
    "\n",
    "Neste trabalho abordaremos um algoritmo para grupos arbitrários, isto é, aqueles que não exploram qualquer propriedade específica do grupo. Para tal apresentaremos um algoritmo característico denominado Algoritmo de $Shanks$.\n",
    "\n",
    "\n",
    "### Criação do Algoritmo de $Shanks$\n",
    "\n",
    "[Daniel Shanks](https://en.wikipedia.org/wiki/Daniel_Shanks) desenvolveu em 1973 um método eficiente para calcular logaritmos discretos. Para este algoritmo necessitamos de enumerar os elementos de $G$.\n",
    "\n",
    "Tomando $G$ como grupo e $b \\in G$ um elemento de ordem finita. Dado $a \\in \\langle b \\rangle$, existe um único natural $x$, $0 \\leq x \\leq |\\langle b \\rangle|-1$ tal que $a=b^{x}$, portanto, o logaritmo discreto de $a$ na base $b$ é bem definido.\n",
    "\n",
    "Seja $n\\in \\N$, $n \\geq | \\langle b \\rangle|$ e $m =\\lceil \\sqrt{n} \\rceil$\n",
    "Dado $a \\in G$, vamos calcular o logaritmo discreto isto é $x=log_{b}a$.\n",
    "\n",
    "Tomando as hipóteses acima, concluímos que para a elaboração do código devemos:\n",
    "\n",
    "Calcular $a\\times b^{-i}$, com $0 \\leq i < m$, fazendo a construção dos pares ordenados $(i,a\\times b ^{-i})$.\n",
    "\n",
    "De seguida, fazemos o calculo de $b^{m \\times j}$, com $0 \\leq j \\leq m$ e novamente construimos o conjunto formado pelo pares ordenados $(j , b^{m \\times j})$.\n",
    "\n",
    "Após essa construção procuramos o par dentre os dois conjuntos que contém as segundas coordenadas iguais, ou seja, $(i,y) \\in C_1$ e $(j,y) \\in C_2$, por fim devemos calcular $m \\times j + i$, que é a solução de $\\log_{b}a \\mod |\\langle b \\rangle|$.\n",
    "\n",
    "Podemos então concluir que o Algoritmo de $Shanks$ é determinístico, tendo um tempo de execução de $O(\\sqrt{n} \\times \\log n)$."
   ]
  },
  {
   "cell_type": "code",
   "execution_count": 3,
   "metadata": {},
   "outputs": [],
   "source": [
    "def shanks():\n",
    "   print(\"Sou eu\")"
   ]
  },
  {
   "cell_type": "markdown",
   "metadata": {},
   "source": [
    "## Exemplos\n",
    "\n",
    "### Exemplo 1\n",
    "Imaginemos que queremos determinar $x \\equiv log_{2} 12 \\mod 52$, podemos considerar $G = \\Z_{53}^*$ que é grupo cíclico gerado por 2. Tomando $n = 53 \\geq |\\langle b \\rangle|$, $m = \\lceil \\sqrt{53}\\rceil = 8$."
   ]
  },
  {
   "cell_type": "markdown",
   "metadata": {},
   "source": [
    "### Exemplo 2\n",
    "\n",
    "Neste segundo exemplo consideramos o $p = 53$, logo teremos um $m = \\lceil \\sqrt{53} \\rceil = 8$, com um $a=45$ e $b=2$ e queremos determinar $x \\equiv log_{2}45 \\mod 53$."
   ]
  },
  {
   "cell_type": "markdown",
   "metadata": {},
   "source": []
  }
 ],
 "metadata": {
  "interpreter": {
   "hash": "cf9b825205427558d9e7dfaf6ce7c27a2d4510baca998249d0b0014e3faa8dac"
  },
  "kernelspec": {
   "display_name": "Python 3.10.2 64-bit",
   "language": "python",
   "name": "python3"
  },
  "language_info": {
   "codemirror_mode": {
    "name": "ipython",
    "version": 3
   },
   "file_extension": ".py",
   "mimetype": "text/x-python",
   "name": "python",
   "nbconvert_exporter": "python",
   "pygments_lexer": "ipython3",
   "version": "3.10.2"
  },
  "orig_nbformat": 4
 },
 "nbformat": 4,
 "nbformat_minor": 2
}
