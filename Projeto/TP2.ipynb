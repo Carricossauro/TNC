{
 "cells": [
  {
   "cell_type": "markdown",
   "metadata": {},
   "source": [
    "# Teoria de Números Computacional 21/22\n",
    "---\n",
    "## Trabalho Prático 2\n",
    "\n",
    "Grupo:\n",
    "\n",
    "* Ivo Miguel Gomes Lima (A90214)\n",
    "\n",
    "* Tiago dos Santos Silva Peixoto Carriço (A91695)\n",
    "\n",
    "---\n",
    "## Contextualização\n",
    "\n",
    "Para o segundo trabalho prático foi-nos pedido a implementação e explicação do [Algoritmo de $Shanks$](https://en.wikipedia.org/wiki/Baby-step_giant-step), baby-step giant-step, que permite resolver o Problema do Logaritmo Discreto, tendo em vista o caso de uma raiz primitiva r de $Z_p^*$.\n",
    "\n",
    "Tal como no primeiro trabalho prátrico foi necessrio o uso do [SageMath](https://www.sagemath.org) e a consulta da secção 3.6.2 (Cap 3) do ${Handbook\\ of\\ Applied\\ Cryptography,\\ A.\\ Menezes,\\ P.\\ van\\ Oorschot,\\ S.\\ Vanstone,\\ CRC\\ Press,\\ 1996}$ disponibilizado pelo docente da cadeira.\n",
    "\n",
    "### Criação do Algoritmo de $Shanks$"
   ]
  },
  {
   "cell_type": "code",
   "execution_count": 3,
   "metadata": {},
   "outputs": [],
   "source": [
    "def shanks():\n",
    "   print(\"Sou eu\")"
   ]
  }
 ],
 "metadata": {
  "interpreter": {
   "hash": "cf9b825205427558d9e7dfaf6ce7c27a2d4510baca998249d0b0014e3faa8dac"
  },
  "kernelspec": {
   "display_name": "Python 3.10.2 64-bit",
   "language": "python",
   "name": "python3"
  },
  "language_info": {
   "codemirror_mode": {
    "name": "ipython",
    "version": 3
   },
   "file_extension": ".py",
   "mimetype": "text/x-python",
   "name": "python",
   "nbconvert_exporter": "python",
   "pygments_lexer": "ipython3",
   "version": "3.10.2"
  },
  "orig_nbformat": 4
 },
 "nbformat": 4,
 "nbformat_minor": 2
}
